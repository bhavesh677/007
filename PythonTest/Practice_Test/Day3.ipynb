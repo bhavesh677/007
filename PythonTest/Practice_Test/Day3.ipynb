{
 "cells": [
  {
   "cell_type": "markdown",
   "metadata": {},
   "source": [
    "# 1.You are given with a list of integer elements. Make a new list which will store square of elements of previous list."
   ]
  },
  {
   "cell_type": "code",
   "execution_count": 3,
   "metadata": {},
   "outputs": [
    {
     "name": "stdout",
     "output_type": "stream",
     "text": [
      "Enter number of elements: 5\n",
      "1\n",
      "2\n",
      "3\n",
      "4\n",
      "5\n",
      "Square of entered list: [1, 4, 9, 16, 25]\n"
     ]
    }
   ],
   "source": [
    "def LSQR(lst):\n",
    "    SQRlst = [i**2 for i in lst]\n",
    "    return SQRlst\n",
    "\n",
    "n = int(input(\"Enter number of elements: \"))\n",
    "\n",
    "lst = []\n",
    "for i in range(n):\n",
    "    lst.append(int(input()))\n",
    "    \n",
    "print(\"Square of entered list:\",LSQR(lst))"
   ]
  },
  {
   "cell_type": "markdown",
   "metadata": {},
   "source": [
    "# 2.From a list containing ints, strings and floats, make three lists to store them separately."
   ]
  },
  {
   "cell_type": "code",
   "execution_count": 4,
   "metadata": {},
   "outputs": [
    {
     "name": "stdout",
     "output_type": "stream",
     "text": [
      "[0, 0, False, 7, True]\n",
      "[9.4, 7.4]\n",
      "['bhavesh', 'sawant', 'vita', 'dbda']\n",
      "[False, True]\n"
     ]
    }
   ],
   "source": [
    "def Sep(mixlst):\n",
    "    \n",
    "    for i in mixlst:\n",
    "        \n",
    "        Ilst = [i for i in mixlst if isinstance(i,int)]\n",
    "        \n",
    "        Flst = [i for i in mixlst if isinstance(i,float)]\n",
    "        \n",
    "        Slst = [i for i in mixlst if isinstance(i, str)]\n",
    "        \n",
    "        Blst = [i for i in mixlst if isinstance(i, bool)]\n",
    "        \n",
    "    return Ilst,Flst,Slst,Blst\n",
    "\n",
    "mixlist = [0,\"bhavesh\",0,\"sawant\",9.4,False,7,\"vita\",7.4,\"dbda\",True]\n",
    "\n",
    "Int,Float,String,Bool = Sep(mixlist)\n",
    "\n",
    "print(Int)\n",
    "print(Float)\n",
    "print(String)\n",
    "print(Bool)"
   ]
  },
  {
   "cell_type": "code",
   "execution_count": 6,
   "metadata": {},
   "outputs": [
    {
     "name": "stdout",
     "output_type": "stream",
     "text": [
      "Enter number of rows: 5\n",
      "1\n",
      "12\n",
      "123\n",
      "1234\n",
      "12345\n"
     ]
    }
   ],
   "source": [
    "n = int(input(\"Enter number of rows: \"))\n",
    "\n",
    "for i in range(n):\n",
    "    for p in range(1,i+2):\n",
    "        print(p,end=\"\")\n",
    "        \n",
    "    print()"
   ]
  },
  {
   "cell_type": "markdown",
   "metadata": {},
   "source": [
    "# 5.Write a Python program to check whether a given number is a narcissistic number or not For example, 371 is a narcissistic number; it has three digits,        and if we cube each digits  3^3 + 7^3 + 1^3 the sum is 371.                                  test case = 371,153,370,407,1634,8208,9474"
   ]
  },
  {
   "cell_type": "code",
   "execution_count": 7,
   "metadata": {},
   "outputs": [
    {
     "name": "stdout",
     "output_type": "stream",
     "text": [
      "Enter number: 8208\n",
      "Narcissistic Number\n"
     ]
    }
   ],
   "source": [
    "def Narci(n,power):\n",
    "    temp = n\n",
    "    sum = 0\n",
    "    while n != 0:\n",
    "        r = n % 10\n",
    "        sum += r**power\n",
    "        n //= 10\n",
    "    \n",
    "    if sum == temp:\n",
    "        return \"Narcissistic Number\"\n",
    "    else:\n",
    "        return \"NOT Narcissistic Number\"\n",
    "    \n",
    "\n",
    "n = int(input(\"Enter number: \"))\n",
    "power = len(str(n))\n",
    "print(Narci(n,power))"
   ]
  },
  {
   "cell_type": "markdown",
   "metadata": {},
   "source": [
    "# Addition of two matrices"
   ]
  },
  {
   "cell_type": "code",
   "execution_count": 8,
   "metadata": {},
   "outputs": [
    {
     "name": "stdout",
     "output_type": "stream",
     "text": [
      "Enter values in first 3*3 Matrix: \n",
      "1\n",
      "2\n",
      "3\n",
      "4\n",
      "5\n",
      "6\n",
      "7\n",
      "8\n",
      "9\n",
      "Enter values in second 3*3 Matrix: \n",
      "1\n",
      "2\n",
      "3\n",
      "4\n",
      "5\n",
      "6\n",
      "7\n",
      "8\n",
      "9\n",
      "Addition of Mat1 and Mat2 is: \n",
      " [[ 2  4  6]\n",
      " [ 8 10 12]\n",
      " [14 16 18]]\n"
     ]
    }
   ],
   "source": [
    "import numpy as np\n",
    "\n",
    "lst1 = []\n",
    "lst2 = []\n",
    "\n",
    "\n",
    "\n",
    "print(\"Enter values in first 3*3 Matrix: \")\n",
    "for i in range(9):\n",
    "    lst1.append(int(input()))\n",
    "    \n",
    "print(\"Enter values in second 3*3 Matrix: \")\n",
    "for i in range(9):\n",
    "    lst2.append(int(input()))\n",
    "\n",
    "\n",
    "    \n",
    "Mat1 = np.asarray(lst1)\n",
    "Mat2 = np.asarray(lst2)\n",
    "    \n",
    "Mat1 = Mat1.reshape(3,3)\n",
    "Mat2 = Mat2.reshape(3,3)\n",
    "\n",
    "Add = Mat1 + Mat2\n",
    "\n",
    "print(\"Addition of Mat1 and Mat2 is:\",\"\\n\",Add)"
   ]
  },
  {
   "cell_type": "code",
   "execution_count": null,
   "metadata": {},
   "outputs": [],
   "source": []
  }
 ],
 "metadata": {
  "kernelspec": {
   "display_name": "Python 3",
   "language": "python",
   "name": "python3"
  },
  "language_info": {
   "codemirror_mode": {
    "name": "ipython",
    "version": 3
   },
   "file_extension": ".py",
   "mimetype": "text/x-python",
   "name": "python",
   "nbconvert_exporter": "python",
   "pygments_lexer": "ipython3",
   "version": "3.7.2"
  }
 },
 "nbformat": 4,
 "nbformat_minor": 4
}
