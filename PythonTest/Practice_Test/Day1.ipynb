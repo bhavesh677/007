{
 "cells": [
  {
   "cell_type": "code",
   "execution_count": 2,
   "metadata": {},
   "outputs": [
    {
     "name": "stdout",
     "output_type": "stream",
     "text": [
      "2002,2009,2016,2023,2037,2044,2051,2058,2072,2079,2086,2093,2107,2114,2121,2128,2142,2149,2156,2163,2177,2184,2191,2198,2212,2219,2226,2233,2247,2254,2261,2268,2282,2289,2296,2303,2317,2324,2331,2338,2352,2359,2366,2373,2387,2394,2401,2408,2422,2429,2436,2443,2457,2464,2471,2478,2492,2499,2506,2513,2527,2534,2541,2548,2562,2569,2576,2583,2597,2604,2611,2618,2632,2639,2646,2653,2667,2674,2681,2688,2702,2709,2716,2723,2737,2744,2751,2758,2772,2779,2786,2793,2807,2814,2821,2828,2842,2849,2856,2863,2877,2884,2891,2898,2912,2919,2926,2933,2947,2954,2961,2968,2982,2989,2996,3003,3017,3024,3031,3038,3052,3059,3066,3073,3087,3094,3101,3108,3122,3129,3136,3143,3157,3164,3171,3178,3192,3199\n"
     ]
    }
   ],
   "source": [
    "s = \"\"\n",
    "\n",
    "for i in range(2000,3201):\n",
    "    if (i % 7 == 0 and i % 5 != 0):\n",
    "        s = s + str(i) + \",\"\n",
    "        \n",
    "print(s[:-1])"
   ]
  },
  {
   "cell_type": "code",
   "execution_count": 3,
   "metadata": {},
   "outputs": [
    {
     "name": "stdout",
     "output_type": "stream",
     "text": [
      "Enter number: 4\n",
      "{1: 1, 2: 4, 3: 9, 4: 16}\n",
      "{1: 1, 2: 4, 3: 9, 4: 16}\n"
     ]
    }
   ],
   "source": [
    "n = int(input(\"Enter number: \"))\n",
    "\n",
    "def Dtable(n):\n",
    "    lst = []\n",
    "    for i in range(1,n+1):\n",
    "        lst.append([i,i*i])\n",
    "        \n",
    "    return dict(lst)\n",
    "\n",
    "print(Dtable(n))\n",
    "\n",
    "\n",
    "d = {}\n",
    "\n",
    "for i in range(1,n+1):\n",
    "    d[i] = i * i\n",
    "    \n",
    "print(d)"
   ]
  },
  {
   "cell_type": "code",
   "execution_count": 5,
   "metadata": {},
   "outputs": [
    {
     "name": "stdout",
     "output_type": "stream",
     "text": [
      "bhavesh sawant\n",
      "vita dbda\n",
      "\n",
      "BHAVESH SAWANT\n",
      "VITA DBDA\n"
     ]
    }
   ],
   "source": [
    "'''def UP(n):\n",
    "    lst = []\n",
    "\n",
    "    for i in range(n):\n",
    "        a = input()\n",
    "        lst.append(a)\n",
    "        \n",
    "    for i in lst:\n",
    "        print(i.upper())'''\n",
    "        \n",
    "\n",
    "def WUP():\n",
    "    lst = []\n",
    "    while True:\n",
    "        a = input()\n",
    "        if a:\n",
    "            lst.append(a)\n",
    "        else:\n",
    "            break\n",
    "    for i in lst:\n",
    "        print(i.upper())\n",
    "        \n",
    "    \n",
    "#n = int(input(\"Enter number of rows to be entered: \"))\n",
    "\n",
    "WUP()"
   ]
  },
  {
   "cell_type": "code",
   "execution_count": 9,
   "metadata": {},
   "outputs": [
    {
     "name": "stdout",
     "output_type": "stream",
     "text": [
      "Enter Number: 6\n",
      "Even\n"
     ]
    }
   ],
   "source": [
    "def EO(n):\n",
    "    if n % 2 == 0:\n",
    "        return \"Even\"\n",
    "    else:\n",
    "        return \"Odd\"\n",
    "n = int(input(\"Enter Number: \"))    \n",
    "\n",
    "print(EO(n))"
   ]
  },
  {
   "cell_type": "code",
   "execution_count": 7,
   "metadata": {},
   "outputs": [
    {
     "name": "stdout",
     "output_type": "stream",
     "text": [
      "Enter your Age: 5\n",
      "Sorry not allowed ..Bye!\n"
     ]
    }
   ],
   "source": [
    "def kid(n):\n",
    "    if 7 < n < 13:\n",
    "        return \"Welcome!!\"\n",
    "    else:\n",
    "        return \"Sorry not allowed ..Bye!\"\n",
    "    \n",
    "n = float(input(\"Enter your Age: \") )\n",
    "print(kid(n))"
   ]
  },
  {
   "cell_type": "code",
   "execution_count": null,
   "metadata": {},
   "outputs": [],
   "source": []
  }
 ],
 "metadata": {
  "kernelspec": {
   "display_name": "Python 3",
   "language": "python",
   "name": "python3"
  },
  "language_info": {
   "codemirror_mode": {
    "name": "ipython",
    "version": 3
   },
   "file_extension": ".py",
   "mimetype": "text/x-python",
   "name": "python",
   "nbconvert_exporter": "python",
   "pygments_lexer": "ipython3",
   "version": "3.7.2"
  }
 },
 "nbformat": 4,
 "nbformat_minor": 4
}
