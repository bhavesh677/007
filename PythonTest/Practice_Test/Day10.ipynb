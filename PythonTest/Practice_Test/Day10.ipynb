{
 "cells": [
  {
   "cell_type": "markdown",
   "metadata": {},
   "source": [
    "# 1.\tWrite a NumPy program to get the numpy version and show numpy build configuration."
   ]
  },
  {
   "cell_type": "code",
   "execution_count": 2,
   "metadata": {},
   "outputs": [
    {
     "name": "stdout",
     "output_type": "stream",
     "text": [
      "1.18.2\n"
     ]
    }
   ],
   "source": [
    "import numpy as np\n",
    "print(np.__version__)"
   ]
  },
  {
   "cell_type": "code",
   "execution_count": 2,
   "metadata": {},
   "outputs": [
    {
     "name": "stdout",
     "output_type": "stream",
     "text": [
      "blas_mkl_info:\n",
      "  NOT AVAILABLE\n",
      "blis_info:\n",
      "  NOT AVAILABLE\n",
      "openblas_info:\n",
      "    library_dirs = ['C:\\\\projects\\\\numpy-wheels\\\\numpy\\\\build\\\\openblas_info']\n",
      "    libraries = ['openblas_info']\n",
      "    language = f77\n",
      "    define_macros = [('HAVE_CBLAS', None)]\n",
      "blas_opt_info:\n",
      "    library_dirs = ['C:\\\\projects\\\\numpy-wheels\\\\numpy\\\\build\\\\openblas_info']\n",
      "    libraries = ['openblas_info']\n",
      "    language = f77\n",
      "    define_macros = [('HAVE_CBLAS', None)]\n",
      "lapack_mkl_info:\n",
      "  NOT AVAILABLE\n",
      "openblas_lapack_info:\n",
      "    library_dirs = ['C:\\\\projects\\\\numpy-wheels\\\\numpy\\\\build\\\\openblas_lapack_info']\n",
      "    libraries = ['openblas_lapack_info']\n",
      "    language = f77\n",
      "    define_macros = [('HAVE_CBLAS', None)]\n",
      "lapack_opt_info:\n",
      "    library_dirs = ['C:\\\\projects\\\\numpy-wheels\\\\numpy\\\\build\\\\openblas_lapack_info']\n",
      "    libraries = ['openblas_lapack_info']\n",
      "    language = f77\n",
      "    define_macros = [('HAVE_CBLAS', None)]\n",
      "None\n"
     ]
    }
   ],
   "source": [
    "print(np.show_config())"
   ]
  },
  {
   "cell_type": "markdown",
   "metadata": {},
   "source": [
    "# 2.\tWrite a NumPy program to test element-wise for complex number, real number of a given array. Also test whether a given number is a scalar type or not."
   ]
  },
  {
   "cell_type": "code",
   "execution_count": null,
   "metadata": {},
   "outputs": [],
   "source": [
    "dir(np)"
   ]
  },
  {
   "cell_type": "code",
   "execution_count": null,
   "metadata": {},
   "outputs": [],
   "source": [
    "help(np.isscalar)"
   ]
  },
  {
   "cell_type": "code",
   "execution_count": 3,
   "metadata": {},
   "outputs": [
    {
     "name": "stdout",
     "output_type": "stream",
     "text": [
      "[(4+2j), 5j]\n",
      "[1, 2, 5, (2+0j), True, 5.4, 3.5, [46], [4.5]]\n",
      "[1, 2, (4+2j), 5, (2+0j), 5j, True, 5.4, 'bhavesh', 3.5]\n"
     ]
    }
   ],
   "source": [
    "array = np.array([1,2,4+2j,5,2+0j,5j,True,5.4,\"bhavesh\",(3.5),[46],[4.5]])\n",
    "\n",
    "complex_no = [i for i in array if np.iscomplex(i)]\n",
    "print(complex_no)\n",
    "\n",
    "real_no = [i for i in array if np.isreal(i)]\n",
    "print(real_no)\n",
    "\n",
    "scalar = [i for i in array if np.isscalar(i)]\n",
    "print(scalar)"
   ]
  },
  {
   "cell_type": "markdown",
   "metadata": {},
   "source": [
    "# 3.Write a NumPy program to test whether none of the elements of a given array is zero."
   ]
  },
  {
   "cell_type": "code",
   "execution_count": null,
   "metadata": {},
   "outputs": [],
   "source": [
    "help(np.all)"
   ]
  },
  {
   "cell_type": "code",
   "execution_count": 4,
   "metadata": {},
   "outputs": [
    {
     "name": "stdout",
     "output_type": "stream",
     "text": [
      "False\n",
      "True\n",
      "False\n",
      "True\n"
     ]
    }
   ],
   "source": [
    "array = np.array([1,2,3,4,0,6,7])\n",
    "print(np.all(array)) #all : Test whether all array elements along a given axis evaluate to True.\n",
    "\n",
    "array = np.array([1,2,3,4,1,6,7])\n",
    "print(np.all(array))\n",
    "\n",
    "array = np.array([1,2,False,4,1,6,7])\n",
    "print(np.all(array))\n",
    "\n",
    "array = np.array([1,True,3,4,1,6,7])\n",
    "print(np.all(array))"
   ]
  },
  {
   "cell_type": "markdown",
   "metadata": {},
   "source": [
    "# 4.Write a NumPy program to test whether any of the elements of a given array is non-zero."
   ]
  },
  {
   "cell_type": "code",
   "execution_count": 5,
   "metadata": {},
   "outputs": [
    {
     "name": "stdout",
     "output_type": "stream",
     "text": [
      "True\n",
      "True\n",
      "False\n"
     ]
    }
   ],
   "source": [
    "array = np.array([1,2,3,4,0,6,7])\n",
    "print(np.any(array)) #any : Test whether any element along a given axis evaluates to True.\n",
    "\n",
    "array = np.array([0,0,0,0,1,0,0])\n",
    "print(np.any(array))\n",
    "\n",
    "array = np.array([0,0,0,0,0,0,0])\n",
    "print(np.any(array))"
   ]
  },
  {
   "cell_type": "markdown",
   "metadata": {},
   "source": [
    "# 5.Write a NumPy program to test element-wise for NaN of a given array."
   ]
  },
  {
   "cell_type": "code",
   "execution_count": 6,
   "metadata": {},
   "outputs": [
    {
     "name": "stdout",
     "output_type": "stream",
     "text": [
      "[False False False False]\n",
      "[False  True False False]\n"
     ]
    }
   ],
   "source": [
    "array = np.array([1,6,4,0])\n",
    "print(np.isnan(array))\n",
    "\n",
    "array = np.array([1,np.nan,4,0])\n",
    "print(np.isnan(array))"
   ]
  },
  {
   "cell_type": "code",
   "execution_count": 7,
   "metadata": {},
   "outputs": [
    {
     "name": "stdout",
     "output_type": "stream",
     "text": [
      "nan\n"
     ]
    }
   ],
   "source": [
    "print(np.nan)"
   ]
  },
  {
   "cell_type": "markdown",
   "metadata": {},
   "source": [
    "# 6.\tWrite a NumPy program to create an element-wise comparison (greater, greater_equal, less and less_equal) of two given arrays."
   ]
  },
  {
   "cell_type": "code",
   "execution_count": 8,
   "metadata": {},
   "outputs": [
    {
     "name": "stdout",
     "output_type": "stream",
     "text": [
      "Array1 greater than Array2:\n",
      " [False  True False False  True False False False  True  True]\n",
      "Array1 greater than or equal Array2:\n",
      " [False  True False False  True  True False False  True  True]\n",
      "Array1 less than Array2:\n",
      " [False  True False False  True False False False  True  True]\n",
      "Array1 less than or equal Array2:\n",
      " [False  True False False  True  True False False  True  True]\n"
     ]
    }
   ],
   "source": [
    "array1 = np.array([22,56,32,7,98,54,0,-3,43,-45])\n",
    "array2 = np.array([28,26,82,98,18,54,10,19,33,-55])\n",
    "\n",
    "print(\"Array1 greater than Array2:\\n\",np.greater(array1,array2))\n",
    "\n",
    "print(\"Array1 greater than or equal Array2:\\n\",np.greater_equal(array1,array2))\n",
    "\n",
    "print(\"Array1 less than Array2:\\n\",np.greater(array1,array2))\n",
    "\n",
    "print(\"Array1 less than or equal Array2:\\n\",np.greater_equal(array1,array2))"
   ]
  },
  {
   "cell_type": "markdown",
   "metadata": {},
   "source": [
    "# 7.\tWrite a NumPy program to create an element-wise comparison (equal, equal within a tolerance) of two given arrays.\n",
    "# Input:\n",
    "# x = np.array ([72, 79, 85, 90, 150, -135, 120, -10, 60, 100])\n",
    "# y = np.array ([72, 79, 85, 90, 150, -135, 120, -10, 60, 100.000001])\n"
   ]
  },
  {
   "cell_type": "code",
   "execution_count": 9,
   "metadata": {},
   "outputs": [
    {
     "name": "stdout",
     "output_type": "stream",
     "text": [
      "[ True  True  True  True  True  True  True  True  True False]\n"
     ]
    }
   ],
   "source": [
    "x = np.array ([72, 79, 85, 90, 150, -135, 120, -10, 60, 100])\n",
    "y = np.array ([72, 79, 85, 90, 150, -135, 120, -10, 60, 100.000001])\n",
    "\n",
    "print(np.equal(x,y))"
   ]
  },
  {
   "cell_type": "code",
   "execution_count": 10,
   "metadata": {},
   "outputs": [
    {
     "name": "stdout",
     "output_type": "stream",
     "text": [
      "True\n"
     ]
    }
   ],
   "source": [
    "print(np.allclose(x,y))"
   ]
  },
  {
   "cell_type": "code",
   "execution_count": 7,
   "metadata": {},
   "outputs": [
    {
     "name": "stdout",
     "output_type": "stream",
     "text": [
      "True\n"
     ]
    }
   ],
   "source": [
    "import numpy as np\n",
    "x = np.array ([72, 79, 85, 90, -135, 120, -10, 60, 100])\n",
    "y = np.array ([72, 79, 85, 90, -135, 120, -10, 60, 100.000001])\n",
    "print(np.allclose(x,y))"
   ]
  },
  {
   "cell_type": "code",
   "execution_count": 11,
   "metadata": {},
   "outputs": [
    {
     "name": "stdout",
     "output_type": "stream",
     "text": [
      "False\n"
     ]
    }
   ],
   "source": [
    "x = np.array ([72, 79, 85, 90, np.nan, -135, 120, -10, 60, 100])\n",
    "y = np.array ([72, 79, 85, 90, np.nan, -135, 120, -10, 60, 100.000001])\n",
    "print(np.allclose(x,y))"
   ]
  },
  {
   "cell_type": "code",
   "execution_count": 12,
   "metadata": {},
   "outputs": [
    {
     "name": "stdout",
     "output_type": "stream",
     "text": [
      "True\n"
     ]
    }
   ],
   "source": [
    "x = np.array ([72, 79, 85, 90, np.nan, -135, 120, -10, 60, 100])\n",
    "y = np.array ([72, 79, 85, 90, np.nan, -135, 120, -10, 60, 100.000001])\n",
    "print(np.allclose(x,y,equal_nan = True))"
   ]
  },
  {
   "cell_type": "markdown",
   "metadata": {},
   "source": [
    "# 8.Write a NumPy program to create an array with the values 1, 7, 13, 105 and determine the size of the memory occupied by the array."
   ]
  },
  {
   "cell_type": "code",
   "execution_count": 13,
   "metadata": {},
   "outputs": [
    {
     "name": "stdout",
     "output_type": "stream",
     "text": [
      "Size of array--> 5\n",
      "Size of each element of array--> 4\n",
      "20 this much memory occupied by our array\n"
     ]
    }
   ],
   "source": [
    "array = np.array([1,7,13,105,56])\n",
    "\n",
    "print(\"Size of array-->\",array.size)\n",
    "print(\"Size of each element of array-->\",array.itemsize)\n",
    "memory_occupied = array.size * array.itemsize\n",
    "print(f\"{memory_occupied} this much memory occupied by our array\")"
   ]
  },
  {
   "cell_type": "markdown",
   "metadata": {},
   "source": [
    "# 9.Write a NumPy program to create an array of 10 zeros, 10 ones, 10 fives."
   ]
  },
  {
   "cell_type": "code",
   "execution_count": 14,
   "metadata": {},
   "outputs": [
    {
     "name": "stdout",
     "output_type": "stream",
     "text": [
      "[0. 0. 0. 0. 0. 0. 0. 0. 0. 0. 1. 1. 1. 1. 1. 1. 1. 1. 1. 1. 5. 5. 5. 5.\n",
      " 5. 5. 5. 5. 5. 5.]\n"
     ]
    }
   ],
   "source": [
    "array = []\n",
    "array.extend(np.zeros(10))\n",
    "array.extend(np.ones(10))\n",
    "array.extend(np.ones(10)*5)\n",
    "\n",
    "a = np.asarray(array)\n",
    "print(a)"
   ]
  },
  {
   "cell_type": "markdown",
   "metadata": {},
   "source": [
    "# 10.Write a NumPy program to create an array of the integers from 30 to 70."
   ]
  },
  {
   "cell_type": "code",
   "execution_count": 15,
   "metadata": {},
   "outputs": [
    {
     "name": "stdout",
     "output_type": "stream",
     "text": [
      "[30 31 32 33 34 35 36 37 38 39 40 41 42 43 44 45 46 47 48 49 50 51 52 53\n",
      " 54 55 56 57 58 59 60 61 62 63 64 65 66 67 68 69 70]\n"
     ]
    }
   ],
   "source": [
    "array = np.arange(30,71)\n",
    "print(array)"
   ]
  },
  {
   "cell_type": "markdown",
   "metadata": {},
   "source": [
    "# 11.Write a NumPy program to create an array of all the even integers from 30 to 70."
   ]
  },
  {
   "cell_type": "code",
   "execution_count": 16,
   "metadata": {},
   "outputs": [
    {
     "name": "stdout",
     "output_type": "stream",
     "text": [
      "[30 32 34 36 38 40 42 44 46 48 50 52 54 56 58 60 62 64 66 68 70]\n"
     ]
    }
   ],
   "source": [
    "array = np.arange(30,71,2)\n",
    "print(array)"
   ]
  },
  {
   "cell_type": "markdown",
   "metadata": {},
   "source": [
    "# 12.Write a NumPy program to create a 3x3 identity matrix."
   ]
  },
  {
   "cell_type": "code",
   "execution_count": 6,
   "metadata": {},
   "outputs": [
    {
     "name": "stdout",
     "output_type": "stream",
     "text": [
      "[[1. 0. 0.]\n",
      " [0. 1. 0.]\n",
      " [0. 0. 1.]]\n",
      "[[1. 0. 0.]\n",
      " [0. 1. 0.]\n",
      " [0. 0. 1.]]\n",
      "[[1. 0. 0.]\n",
      " [0. 1. 0.]\n",
      " [0. 0. 1.]]\n"
     ]
    }
   ],
   "source": [
    "print(np.eye(3,3))\n",
    "print(np.eye(3))\n",
    "print(np.identity(3))"
   ]
  },
  {
   "cell_type": "markdown",
   "metadata": {},
   "source": [
    "# 13.Write a NumPy program to generate a random number between 0 and 1."
   ]
  },
  {
   "cell_type": "code",
   "execution_count": 18,
   "metadata": {},
   "outputs": [
    {
     "name": "stdout",
     "output_type": "stream",
     "text": [
      "[0.  0.1 0.2 0.3 0.4 0.5 0.6 0.7 0.8 0.9]\n"
     ]
    }
   ],
   "source": [
    "array = np.arange(0,1,0.1)\n",
    "print(array)"
   ]
  },
  {
   "cell_type": "code",
   "execution_count": 19,
   "metadata": {},
   "outputs": [
    {
     "name": "stdout",
     "output_type": "stream",
     "text": [
      "0.5\n"
     ]
    }
   ],
   "source": [
    "import random\n",
    "print(random.choice(array))"
   ]
  },
  {
   "cell_type": "code",
   "execution_count": 20,
   "metadata": {},
   "outputs": [
    {
     "name": "stdout",
     "output_type": "stream",
     "text": [
      "0.18716002454954594\n"
     ]
    }
   ],
   "source": [
    "import numpy as np\n",
    "print(np.random.rand())"
   ]
  },
  {
   "cell_type": "code",
   "execution_count": 8,
   "metadata": {},
   "outputs": [
    {
     "name": "stdout",
     "output_type": "stream",
     "text": [
      "[ 8 11 14  5]\n"
     ]
    }
   ],
   "source": [
    "import numpy as np\n",
    "print(np.random.randint(low=5, high=15, size=4))"
   ]
  },
  {
   "cell_type": "code",
   "execution_count": 14,
   "metadata": {},
   "outputs": [
    {
     "name": "stdout",
     "output_type": "stream",
     "text": [
      "8.639967637974198\n"
     ]
    }
   ],
   "source": [
    "import numpy as np\n",
    "print(np.random.uniform(5,10))"
   ]
  },
  {
   "cell_type": "code",
   "execution_count": 10,
   "metadata": {},
   "outputs": [
    {
     "name": "stdout",
     "output_type": "stream",
     "text": [
      "[[0.38551299 0.43979732]\n",
      " [0.40428059 0.56670696]\n",
      " [0.49723904 0.94978522]]\n"
     ]
    }
   ],
   "source": [
    "print(np.random.rand(3,2))"
   ]
  },
  {
   "cell_type": "markdown",
   "metadata": {},
   "source": [
    "# 14.Write a NumPy program to generate an array of 15 random numbers from a standard normal distribution."
   ]
  },
  {
   "cell_type": "code",
   "execution_count": 26,
   "metadata": {},
   "outputs": [
    {
     "name": "stdout",
     "output_type": "stream",
     "text": [
      "[-0.18625419  1.26242637  0.49541502 -0.12267935  0.68629655 -0.11524009\n",
      "  1.61932551  1.97997277  1.31106292 -0.45393982 -0.42662419  0.78785704\n",
      "  0.45401866  0.53777827  0.67872098]\n"
     ]
    }
   ],
   "source": [
    "#help(random.normal)\n",
    "print(np.random.normal(0,1,15))"
   ]
  },
  {
   "cell_type": "markdown",
   "metadata": {},
   "source": [
    "# 15.Write a NumPy program to create a vector with values ranging from 15 to 55 and print all values except the first and last."
   ]
  },
  {
   "cell_type": "code",
   "execution_count": 27,
   "metadata": {},
   "outputs": [
    {
     "name": "stdout",
     "output_type": "stream",
     "text": [
      "[16 17 18 19 20 21 22 23 24 25 26 27 28 29 30 31 32 33 34 35 36 37 38 39\n",
      " 40 41 42 43 44 45 46 47 48 49 50 51 52 53 54]\n",
      "[16 17 18 19 20 21 22 23 24 25 26 27 28 29 30 31 32 33 34 35 36 37 38 39\n",
      " 40 41 42 43 44 45 46 47 48 49 50 51 52 53 54]\n"
     ]
    }
   ],
   "source": [
    "array = np.arange((15+1),55)\n",
    "print(array)\n",
    "\n",
    "a = np.arange(15,56)\n",
    "print(a[1:-1])"
   ]
  }
 ],
 "metadata": {
  "kernelspec": {
   "display_name": "Python 3",
   "language": "python",
   "name": "python3"
  },
  "language_info": {
   "codemirror_mode": {
    "name": "ipython",
    "version": 3
   },
   "file_extension": ".py",
   "mimetype": "text/x-python",
   "name": "python",
   "nbconvert_exporter": "python",
   "pygments_lexer": "ipython3",
   "version": "3.7.2"
  }
 },
 "nbformat": 4,
 "nbformat_minor": 4
}
