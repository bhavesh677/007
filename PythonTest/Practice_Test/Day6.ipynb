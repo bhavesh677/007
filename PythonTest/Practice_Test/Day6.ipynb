{
 "cells": [
  {
   "cell_type": "markdown",
   "metadata": {},
   "source": [
    "# 1.Python program to Swap Keys and Values in Dictionary.                              data = {1:\"Bhavesh\",2:\"Vita\",3:\"DBDA\",4:\"Andheri\",5:9768741117}"
   ]
  },
  {
   "cell_type": "code",
   "execution_count": 1,
   "metadata": {},
   "outputs": [
    {
     "name": "stdout",
     "output_type": "stream",
     "text": [
      "Enter key: 1\n",
      "Enter value: bhavesh\n",
      "Enter key: 2\n",
      "Enter value: vita\n",
      "Enter key: 3\n",
      "Enter value: dbda\n",
      "Enter key: \n",
      "{'bhavesh': '1', 'vita': '2', 'dbda': '3'}\n"
     ]
    },
    {
     "data": {
      "text/plain": [
       "'data = {1:\"Bhavesh\",2:\"Vita\",3:\"DBDA\",4:\"Andheri\",5:9768741117}\\n\\n\\ndata = {v:k for k,v in data.items()}\\n\\nprint(data)\\n'"
      ]
     },
     "execution_count": 1,
     "metadata": {},
     "output_type": "execute_result"
    }
   ],
   "source": [
    "data = {}\n",
    "\n",
    "while True:\n",
    "    k = input(\"Enter key: \")\n",
    "    \n",
    "    if k == \"\":\n",
    "        break\n",
    "    v = input(\"Enter value: \")\n",
    "    data.update({k:v})\n",
    "    \n",
    "\n",
    "\n",
    "keys = list(data.keys())\n",
    "values = list(data.values())\n",
    "\n",
    "swap = [[i,j] for i,j in zip(values,keys)]\n",
    "\n",
    "print(dict(swap))\n",
    "\n",
    "'''data = {1:\"Bhavesh\",2:\"Vita\",3:\"DBDA\",4:\"Andheri\",5:9768741117}\n",
    "\n",
    "\n",
    "data = {v:k for k,v in data.items()}\n",
    "\n",
    "print(data)\n",
    "'''"
   ]
  },
  {
   "cell_type": "markdown",
   "metadata": {},
   "source": [
    "# 4.Given a nested list extend it with adding sub list [\"h\", \"i\", \"j\"] in a such a way that it will look like the following list.                                                                    Given list: list1 = [\"a\", \"b\", [\"c\", [\"d\", \"e\", [\"f\", \"g\"], \"k\"], \"l\"], \"m\",  \"n\"]           Sub List to be added = [\"h\", \"i\", \"j\"]                                                                        Expected output:-['a', 'b', ['c', ['d', 'e', ['f', 'g', 'h', 'i', 'j'], 'k'], 'l'], 'm', 'n'] "
   ]
  },
  {
   "cell_type": "code",
   "execution_count": 2,
   "metadata": {},
   "outputs": [
    {
     "name": "stdout",
     "output_type": "stream",
     "text": [
      "['a', 'b', ['c', ['d', 'e', ['f', 'g', 'h', 'i', 'j'], 'k'], 'l'], 'm', 'n']\n"
     ]
    }
   ],
   "source": [
    "list1 = [\"a\", \"b\", [\"c\", [\"d\", \"e\", [\"f\", \"g\"], \"k\"], \"l\"], \"m\",  \"n\"]\n",
    "added = [\"h\", \"i\", \"j\"]\n",
    "\n",
    "'''for i in added:\n",
    "    list1[2][1][2].append(i)\n",
    "    \n",
    "print(list1)'''\n",
    "\n",
    "list1[2][1][2].extend(added)\n",
    "\n",
    "print(list1)"
   ]
  },
  {
   "cell_type": "markdown",
   "metadata": {},
   "source": [
    "# 5.Access the value of key “history”                                                                  sampleDict = { \"class\":{ \"student\":{ \"name\":\"Mike\",\"marks\":{ \"physics\":70,\"history\":80}}}}"
   ]
  },
  {
   "cell_type": "code",
   "execution_count": 5,
   "metadata": {},
   "outputs": [
    {
     "name": "stdout",
     "output_type": "stream",
     "text": [
      "Enter key: history\n",
      "this is the value of entered key-->  80\n"
     ]
    }
   ],
   "source": [
    "sampleDict = { \"class\":{ \"student\":{ \"name\":\"Mike\",\"marks\":{ \"physics\":70,\"history\":80}}}}\n",
    "\n",
    "\n",
    "#print(sampleDict[\"class\"][\"student\"][\"marks\"][\"history\"]) \n",
    "\n",
    "\n",
    "#print((((sampleDict.get(\"class\")).get(\"student\")).get(\"marks\")).get(\"history\"))\n",
    "\n",
    "def Val_of_key(sampleDict,key):\n",
    "    data = sampleDict\n",
    "    flag = True\n",
    "    \n",
    "    while flag:\n",
    "       for k,v in data.items():\n",
    "            if k == key:\n",
    "                return data[key]\n",
    "                flag = False\n",
    "            else:\n",
    "                if isinstance(v,dict):\n",
    "                    data = v\n",
    "               \n",
    "key = input(\"Enter key: \")\n",
    "print(\"this is the value of entered key--> \",Val_of_key(sampleDict, key))"
   ]
  },
  {
   "cell_type": "code",
   "execution_count": 8,
   "metadata": {},
   "outputs": [
    {
     "name": "stdout",
     "output_type": "stream",
     "text": [
      "Enter key: physics\n",
      "this is the value of entered key-->  70\n"
     ]
    }
   ],
   "source": [
    "key = input(\"Enter key: \")\n",
    "print(\"this is the value of entered key--> \",Val_of_key(sampleDict, key))"
   ]
  },
  {
   "cell_type": "code",
   "execution_count": 9,
   "metadata": {},
   "outputs": [
    {
     "name": "stdout",
     "output_type": "stream",
     "text": [
      "Enter key: name\n",
      "this is the value of entered key-->  Mike\n"
     ]
    }
   ],
   "source": [
    "key = input(\"Enter key: \")\n",
    "print(\"this is the value of entered key--> \",Val_of_key(sampleDict, key))"
   ]
  },
  {
   "cell_type": "code",
   "execution_count": null,
   "metadata": {},
   "outputs": [],
   "source": []
  }
 ],
 "metadata": {
  "kernelspec": {
   "display_name": "Python 3",
   "language": "python",
   "name": "python3"
  },
  "language_info": {
   "codemirror_mode": {
    "name": "ipython",
    "version": 3
   },
   "file_extension": ".py",
   "mimetype": "text/x-python",
   "name": "python",
   "nbconvert_exporter": "python",
   "pygments_lexer": "ipython3",
   "version": "3.7.2"
  }
 },
 "nbformat": 4,
 "nbformat_minor": 4
}
