{
 "cells": [
  {
   "cell_type": "markdown",
   "metadata": {},
   "source": [
    "# 1.Write a program to implement Constructor with Variable Number of Arguments."
   ]
  },
  {
   "cell_type": "code",
   "execution_count": 45,
   "metadata": {},
   "outputs": [
    {
     "name": "stdout",
     "output_type": "stream",
     "text": [
      "bhavesh DBDA VITA\n",
      "('bhavesh', 'DBDA', 'VITA')\n",
      "('bhavesh', 'DBDA', 'VITA')\n"
     ]
    }
   ],
   "source": [
    "class Variable_arg:\n",
    "    def __init__(self,*name):\n",
    "        self.name = name\n",
    "        print(*name)\n",
    "        print(name)\n",
    "        \n",
    "    def check(self):\n",
    "        print(self.name)\n",
    "        \n",
    "obj = Variable_arg(\"bhavesh\",\"DBDA\",\"VITA\")\n",
    "\n",
    "obj.check()"
   ]
  },
  {
   "cell_type": "markdown",
   "metadata": {},
   "source": [
    "# Create a menu driven program for library management. It will include 6 options :-\n",
    "#    1 - student registration\n",
    "#    2 - lend book to student\n",
    "#    3 - return book to library\n",
    "#    4 - display available books\n",
    "#    5 - display all books issued to students\n",
    "#   6 - exit\n",
    "# We will have 2 classes, i.e student and library. These class will have following mandatory methods. \n",
    "# Student class will have methods registration, requestBook and returnBook\n",
    "# Library class will have methods displayAllBooks, lendBook,addNewBook\n",
    "# (If required, you can write additional methods as well.)"
   ]
  },
  {
   "cell_type": "code",
   "execution_count": 1,
   "metadata": {},
   "outputs": [
    {
     "name": "stdout",
     "output_type": "stream",
     "text": [
      "1 - student registration\n",
      "2 - lend book to student\n",
      "3 - return book to library\n",
      "4 - display available books\n",
      "5 - display all books issued to students\n",
      "6 - exit\n",
      "Enter Your Choice: 1\n",
      "Enter your name: bhavesh\n",
      "Enter Id: 7\n",
      "Enter contact number: 9768741117\n",
      "Hello bhavesh Wellcome to Om Sai Ram Library\n",
      "Congratulations bhavesh Succesfully Registered Your Id is-->7\n"
     ]
    }
   ],
   "source": [
    "class Student:\n",
    "    lib = \"Om Sai Ram\"\n",
    "    count = 0\n",
    "    def __init__(self, name):\n",
    "        self.name = name\n",
    "        print(f\"Hello {name} Wellcome to {Student.lib} Library\")\n",
    "        \n",
    "    def registration(self, stud_ID,contact_no):\n",
    "        self.stud_ID = stud_ID\n",
    "        self.contact_no = contact_no\n",
    "        print(f\"Congratulations {self.name} Succesfully Registered Your Id is-->{stud_ID}\")\n",
    "        \n",
    "    def requestBook(self,book_name):\n",
    "        self.book_name = book_name\n",
    "        print(f\"You have requested for-->{book_name}\")\n",
    "        Student.count += 1\n",
    "        return Student.count\n",
    "        \n",
    "    def returnBook(self,book_id):\n",
    "        self.book_id = book_id\n",
    "        print(f\"Book returned Succesfully by {self.name}\")\n",
    "        \n",
    "    def exit(self):\n",
    "        print(\"Succesfully exit!!!\")\n",
    "\n",
    "class Library:\n",
    "    def __init__(self,books):\n",
    "        self.books = books\n",
    "        self.count = len(books)\n",
    "        \n",
    "    def displayAllBooks(self):\n",
    "        for i in self.books:\n",
    "            print(i)\n",
    "                       \n",
    "    def lendBook(self,Id,name,book_name):\n",
    "        self.book_name = book_name\n",
    "        self.record = []\n",
    "        self.record.append(book_name)\n",
    "        print(\"f{book_name} issued to\",name)\n",
    "\n",
    "    def record(self):\n",
    "        return self.record\n",
    "        \n",
    "    def addNewBook(self,new_book_name):\n",
    "        self.books.append(new_book_name)\n",
    "        self.count += 1\n",
    "        print(f\"{new_book_name} add to the library\")\n",
    "        print(\"Total books: \",self.count)\n",
    "        \n",
    "res = int(input(\"1 - student registration\\n2 - lend book to student\\n3 - return book to library\\n4 - display available books\\n5 - display all books issued to students\\n6 - exit\\nEnter Your Choice: \"))\n",
    "\n",
    "entry = 0\n",
    "\n",
    "list_books = [\"History\",\"Math\",\"Biology\"]\n",
    "\n",
    "if res == 1:\n",
    "    entry += 1\n",
    "    name = input(\"Enter your name: \")\n",
    "    Id = input(\"Enter Id: \")\n",
    "    contact = input(\"Enter contact number: \")\n",
    "    objstud = name + str(entry)\n",
    "    objstud = Student(name)\n",
    "    objstud.registration(Id, contact)\n",
    "elif res == 2:\n",
    "    objlib = Library(list_books)\n",
    "    name = input(\"Enter your name: \")\n",
    "    Id = input(\"Enter Id: \")\n",
    "    book_name = input(\"Enter book name: \")\n",
    "    objlib.lendBook(Id, name, book_name)\n",
    "elif res == 3:\n",
    "    name = input(\"Enter your name: \")\n",
    "    book_Id = input(\"Enter book Id: \")\n",
    "    objstud = Student(name)\n",
    "    objstud.returnBook(book_Id)\n",
    "elif res == 4:\n",
    "    objlib = Library(list_books)\n",
    "    objlib.displayAllBooks()\n",
    "elif res == 5:\n",
    "    objlib = Library(list_books)\n",
    "    print(Library.record)\n",
    "elif res == 6:\n",
    "    name = input(\"Enter your name: \")\n",
    "    objstud = Student(name)\n",
    "    objstud.exit()"
   ]
  },
  {
   "cell_type": "markdown",
   "metadata": {},
   "source": [
    "# 3.\tWrite a program to implement multiple inheritance."
   ]
  },
  {
   "cell_type": "code",
   "execution_count": 2,
   "metadata": {},
   "outputs": [
    {
     "name": "stdout",
     "output_type": "stream",
     "text": [
      "You are ? Engineer\n",
      "What do yo do..?Student\n",
      "bhavesh male Engineer Student\n"
     ]
    }
   ],
   "source": [
    "class Human:\n",
    "    def setname(self,name, gender):\n",
    "        self.name = name\n",
    "        self.gender = gender\n",
    "        \n",
    "class Education:\n",
    "    def seteducation(self):\n",
    "        self.education = input(\"You are ? \")\n",
    "        \n",
    "class Job:\n",
    "    def setwork(self):\n",
    "        self.work = input(\"What do yo do..? \")\n",
    "        \n",
    "class Intro(Human,Education,Job):\n",
    "    def show(self):\n",
    "        print(self.name,self.gender,self.education,self.work)\n",
    "        \n",
    "        \n",
    "obj = Intro()\n",
    "obj.setname(\"bhavesh\",\"male\")\n",
    "obj.seteducation()\n",
    "obj.setwork()\n",
    "obj.show()\n",
    "    "
   ]
  },
  {
   "cell_type": "markdown",
   "metadata": {},
   "source": [
    "# 4.\tWrite a program to implement operator overloading in python"
   ]
  },
  {
   "cell_type": "code",
   "execution_count": null,
   "metadata": {},
   "outputs": [],
   "source": []
  },
  {
   "cell_type": "markdown",
   "metadata": {},
   "source": [
    "# 5. Write a Python program to square and cube every number in a given list of integers using Lambda. "
   ]
  },
  {
   "cell_type": "code",
   "execution_count": 6,
   "metadata": {},
   "outputs": [
    {
     "name": "stdout",
     "output_type": "stream",
     "text": [
      "[1, 4, 9, 16, 25, 36, 49]\n",
      "[1, 8, 27, 64, 125, 216, 343]\n"
     ]
    }
   ],
   "source": [
    "lst = [1,2,3,4,5,6,7]\n",
    "\n",
    "sqr = lambda s : s**2\n",
    "cube = lambda c : c**3\n",
    "\n",
    "square = [sqr(i) for i in lst]\n",
    "cube = [cube(i) for i in lst]\n",
    "\n",
    "print(square)\n",
    "print(cube)"
   ]
  },
  {
   "cell_type": "code",
   "execution_count": null,
   "metadata": {},
   "outputs": [],
   "source": []
  }
 ],
 "metadata": {
  "kernelspec": {
   "display_name": "Python 3",
   "language": "python",
   "name": "python3"
  }
 },
 "nbformat": 4,
 "nbformat_minor": 4
}
