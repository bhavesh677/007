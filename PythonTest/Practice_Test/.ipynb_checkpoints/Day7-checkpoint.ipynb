{
 "cells": [
  {
   "cell_type": "markdown",
   "metadata": {},
   "source": [
    "# 1.\tWrite python program to perform bank operations using class and objects.                                                                                                                        Conditions:                                                                                                                      a.\tBank name should be static.                                                                                    b.\tUsing menu driven program.                                                                                    1 .Deposit                                                                                                                        2. Withdraw                                                                                                                    3. Exit\n"
   ]
  },
  {
   "cell_type": "code",
   "execution_count": 1,
   "metadata": {
    "scrolled": true
   },
   "outputs": [
    {
     "name": "stdout",
     "output_type": "stream",
     "text": [
      "Enter Acc Number: 1\n",
      "Press 1 to Deposite \n",
      "Press 2 to Withdraw\n",
      "Press 3 to Exit\n",
      "---> 1\n",
      "Wellcome to National Bank\n",
      "Your Balance is--> 5000\n",
      "Pleas Enter Amount To Be Deposite: 400\n",
      "You have succesfully Deposited--> 400\n",
      "Your balance is--> 5400\n"
     ]
    }
   ],
   "source": [
    "class Bank:\n",
    "    \n",
    "    def __init__(self,balance):\n",
    "        print(\"Wellcome to National Bank\")\n",
    "        self.balance = balance\n",
    "        \n",
    "    def Deposite(self):\n",
    "        print(\"Your Balance is-->\",self.balance)\n",
    "        \n",
    "        self.deposite = int(input(\"Pleas Enter Amount To Be Deposite: \"))\n",
    "        \n",
    "        self.balance += self.deposite\n",
    "        \n",
    "        if self.deposite > 0:   \n",
    "            print(\"You have succesfully Deposited-->\",self.deposite)\n",
    "            print(\"Your balance is-->\",self.balance)\n",
    "            \n",
    "        else:\n",
    "            print(\"Invalid Input Please Try Again!!!\")\n",
    "        \n",
    "    def Withdraw(self):\n",
    "        print(\"Your balance is-->\",self.balance)\n",
    "        \n",
    "        self.withdraw = int(input(\"Please Enter Withdraw Amount: \"))\n",
    "        \n",
    "        self.balance -= self.withdraw\n",
    "        \n",
    "        if self.withdraw > 0:\n",
    "            print(\"Succesfully Withdrawn-->\",self.withdraw)\n",
    "            print(\"Balance is-->\",self.balance)\n",
    "            \n",
    "        else:\n",
    "            print(\"Invalid Input Please Try Again!!!\")\n",
    "            \n",
    "    def Exit(self):\n",
    "        self.exit = input(\"Press Q to Exit: \")\n",
    "        if self.exit == \"Q\" or self.exit == \"q\":\n",
    "            print(\"Exit Succesfull!!!\")\n",
    "        \n",
    "\n",
    "customer_info = {1 : 5000, 2 : 7000 , 3 : 2000}\n",
    "\n",
    "Acc_number = int(input(\"Enter Acc Number: \"))\n",
    "        \n",
    "a = int(input(\"Press 1 to Deposite \\nPress 2 to Withdraw\\nPress 3 to Exit\\n---> \"))\n",
    "\n",
    "objB = Bank(customer_info[Acc_number])\n",
    "\n",
    "if a == 1:\n",
    "    objB.Deposite()\n",
    "\n",
    "elif a == 2:\n",
    "    objB.Withdraw()\n",
    "\n",
    "elif a == 3:\n",
    "    objB.Exit()"
   ]
  },
  {
   "cell_type": "code",
   "execution_count": 2,
   "metadata": {},
   "outputs": [
    {
     "name": "stdout",
     "output_type": "stream",
     "text": [
      "Enter Acc Number: 2\n",
      "Press 1 to Deposite \n",
      "Press 2 to Withdraw\n",
      "Press 3 to Exit\n",
      "---> 2\n",
      "Wellcome to National Bank\n",
      "Your balance is--> 7000\n",
      "Please Enter Withdraw Amount: 4000\n",
      "Succesfully Withdrawn--> 4000\n",
      "Balance is--> 3000\n"
     ]
    }
   ],
   "source": [
    "Acc_number = int(input(\"Enter Acc Number: \"))\n",
    "        \n",
    "a = int(input(\"Press 1 to Deposite \\nPress 2 to Withdraw\\nPress 3 to Exit\\n---> \"))\n",
    "\n",
    "objB = Bank(customer_info[Acc_number])\n",
    "\n",
    "if a == 1:\n",
    "    objB.Deposite()\n",
    "\n",
    "elif a == 2:\n",
    "    objB.Withdraw()\n",
    "\n",
    "elif a == 3:\n",
    "    objB.Exit()"
   ]
  },
  {
   "cell_type": "code",
   "execution_count": 3,
   "metadata": {},
   "outputs": [
    {
     "name": "stdout",
     "output_type": "stream",
     "text": [
      "Enter Acc Number: 3\n",
      "Press 1 to Deposite \n",
      "Press 2 to Withdraw\n",
      "Press 3 to Exit\n",
      "---> 3\n",
      "Wellcome to National Bank\n",
      "Press Q to Exit: q\n",
      "Exit Succesfull!!!\n"
     ]
    }
   ],
   "source": [
    "Acc_number = int(input(\"Enter Acc Number: \"))\n",
    "        \n",
    "a = int(input(\"Press 1 to Deposite \\nPress 2 to Withdraw\\nPress 3 to Exit\\n---> \"))\n",
    "\n",
    "objB = Bank(customer_info[Acc_number])\n",
    "\n",
    "if a == 1:\n",
    "    objB.Deposite()\n",
    "\n",
    "elif a == 2:\n",
    "    objB.Withdraw()\n",
    "\n",
    "elif a == 3:\n",
    "    objB.Exit()"
   ]
  },
  {
   "cell_type": "markdown",
   "metadata": {},
   "source": [
    "# 2.Write a Python class named Circle constructed by a radius and two          methods which will compute the area and the perimeter of a circle."
   ]
  },
  {
   "cell_type": "code",
   "execution_count": 9,
   "metadata": {},
   "outputs": [
    {
     "name": "stdout",
     "output_type": "stream",
     "text": [
      "Enter radius: 2.8\n",
      "Area of Circle is --> 24.6176\n",
      "Perimeter of Circle is --> 17.584\n"
     ]
    }
   ],
   "source": [
    "class Circle:\n",
    "    def __init__(self,radius):\n",
    "        self.radius = radius\n",
    "        \n",
    "    def Area(self):\n",
    "        area = 3.14 * self.radius**2\n",
    "        print(\"Area of Circle is -->\",area)\n",
    "          \n",
    "    def Perimeter(self):\n",
    "        peri = 2 * 3.14 * self.radius\n",
    "        print(\"Perimeter of Circle is -->\",peri)\n",
    "        \n",
    "radius = float(input(\"Enter radius: \"))\n",
    "\n",
    "cirObj = Circle(radius)\n",
    "\n",
    "cirObj.Area()\n",
    "cirObj.Perimeter()      "
   ]
  },
  {
   "cell_type": "markdown",
   "metadata": {},
   "source": [
    "# 3. Define a class named Shape and its subclass Square. The Square class has an init function which takes a length as argument. Both classes have a area function which can print the area of the shape where Shape's area is 0 by default.\n",
    "\n",
    "# Hints:\n",
    "\n",
    "# To override a method in super class, we can define a method with the same name in the super class\n"
   ]
  },
  {
   "cell_type": "code",
   "execution_count": 3,
   "metadata": {},
   "outputs": [
    {
     "name": "stdout",
     "output_type": "stream",
     "text": [
      "Enter side of a Square: 4\n",
      "Area of Shape--> 0\n",
      "Area of Saquare is--> 16.0\n"
     ]
    }
   ],
   "source": [
    "class Shape:\n",
    "    def Area(self):\n",
    "        area = 0\n",
    "        print(\"Area of Shape-->\",area)\n",
    "        \n",
    "class Square(Shape):\n",
    "    def __init__(self,length):\n",
    "        self.length = length\n",
    "        \n",
    "    def Area(self):\n",
    "        super().Area()\n",
    "        Asqr = self.length**2\n",
    "        print(\"Area of Saquare is-->\",Asqr)\n",
    "\n",
    "        \n",
    "n = float(input(\"Enter side of a Square: \"))\n",
    "objSqr = Square(n)\n",
    "objSqr.Area()"
   ]
  },
  {
   "cell_type": "markdown",
   "metadata": {},
   "source": [
    "# 4. Write a program to count how many reference variables in a program. "
   ]
  },
  {
   "cell_type": "code",
   "execution_count": 9,
   "metadata": {},
   "outputs": [
    {
     "name": "stdout",
     "output_type": "stream",
     "text": [
      "5\n"
     ]
    }
   ],
   "source": [
    "import sys\n",
    "\n",
    "class Count:\n",
    "    pass\n",
    "    \n",
    "\n",
    "obj = Count()\n",
    "a = obj\n",
    "b = a\n",
    "c = b\n",
    "\n",
    "print (sys.getrefcount(obj))"
   ]
  },
  {
   "cell_type": "markdown",
   "metadata": {},
   "source": [
    "# 5. write any program   to achieve composition in Python"
   ]
  },
  {
   "cell_type": "code",
   "execution_count": null,
   "metadata": {},
   "outputs": [],
   "source": []
  }
 ],
 "metadata": {
  "kernelspec": {
   "display_name": "Python 3",
   "language": "python",
   "name": "python3"
  },
  "language_info": {
   "codemirror_mode": {
    "name": "ipython",
    "version": 3
   },
   "file_extension": ".py",
   "mimetype": "text/x-python",
   "name": "python",
   "nbconvert_exporter": "python",
   "pygments_lexer": "ipython3",
   "version": "3.7.2"
  }
 },
 "nbformat": 4,
 "nbformat_minor": 4
}
