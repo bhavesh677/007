{
 "cells": [
  {
   "cell_type": "markdown",
   "metadata": {},
   "source": [
    "# 2.Write a Python program for sequential search (Linear search)."
   ]
  },
  {
   "cell_type": "code",
   "execution_count": 1,
   "metadata": {},
   "outputs": [
    {
     "name": "stdout",
     "output_type": "stream",
     "text": [
      "Enter number: 6\n",
      "number found at index 5\n"
     ]
    }
   ],
   "source": [
    "lst = [1,2,3,4,5,6]\n",
    "\n",
    "n = int(input(\"Enter number: \"))\n",
    "\n",
    "flag = 0\n",
    "\n",
    "for i in range(len(lst)):\n",
    "    if lst[i] == n:\n",
    "        \n",
    "        print(\"number found at index %d\"%(i))\n",
    "        flag = 1\n",
    "        \n",
    "if flag == 0:\n",
    "    print(\"number not found\")"
   ]
  },
  {
   "cell_type": "markdown",
   "metadata": {},
   "source": [
    "# 3.Write a Python program for Binary search."
   ]
  },
  {
   "cell_type": "code",
   "execution_count": 2,
   "metadata": {},
   "outputs": [
    {
     "name": "stdout",
     "output_type": "stream",
     "text": [
      "Enter number: 6\n",
      "number found at 6 index\n",
      "Number found\n"
     ]
    }
   ],
   "source": [
    "data = [9,8,7,6,5,4,3,2,1,10]\n",
    "\n",
    "sdata = sorted(data)\n",
    "\n",
    "\n",
    "l = 0 \n",
    "u = len(data) - 1\n",
    "flag = 0\n",
    "n = int(input(\"Enter number: \"))\n",
    "\n",
    "\n",
    "while(l <= u):\n",
    "    m = (l+u)//2\n",
    "    if(n > sdata[m]):\n",
    "        l = m +1\n",
    "    elif (n < sdata[m]):\n",
    "        u = m - 1\n",
    "    else:\n",
    "        flag = 1\n",
    "        for i in range(len(data)):\n",
    "            if i == n:\n",
    "                print(\"number found at %d index\"%(i))\n",
    "            \n",
    "        break\n",
    "\n",
    "if flag == 1:\n",
    "    print(\"Number found\")\n",
    "else:\n",
    "    print(\"Not found\")"
   ]
  },
  {
   "cell_type": "markdown",
   "metadata": {},
   "source": [
    "# 4.Write a python program to concatenate two lists index-wise.                     List1 = [“M”,”na”,”i”,”lak”]                                                                                          List2 = [“y”,”me”,”s”,”han”]                                                                                   Expected output:[“My”,”name”,”is”,”lakhan”]"
   ]
  },
  {
   "cell_type": "code",
   "execution_count": 5,
   "metadata": {},
   "outputs": [
    {
     "name": "stdout",
     "output_type": "stream",
     "text": [
      "['My', 'name', 'is', 'bhavesh']\n"
     ]
    }
   ],
   "source": [
    "List1 = [\"M\",\"na\",\"i\",\"bha\"]\n",
    "List2 = [\"y\",\"me\",\"s\",\"vesh\"]\n",
    "\n",
    "final = []\n",
    "\n",
    "for i,j in zip(List1,List2):\n",
    "    final.append((i+j))\n",
    "    \n",
    "print(final)"
   ]
  },
  {
   "cell_type": "code",
   "execution_count": 6,
   "metadata": {},
   "outputs": [
    {
     "name": "stdout",
     "output_type": "stream",
     "text": [
      "[47, 64, 37, 76]\n"
     ]
    }
   ],
   "source": [
    "roll_number = [47,64,69,37,76,83,97,7,5,3,4,1,9]\n",
    "sampledict = {\"John\":47,\"Peter\":64,\"Mahi\":37,\"Maria\":76}\n",
    "\n",
    "new = []\n",
    "\n",
    "for i in roll_number:\n",
    "    if i in sampledict.values():\n",
    "        new.append(i)\n",
    "\n",
    "print(new)"
   ]
  },
  {
   "cell_type": "code",
   "execution_count": null,
   "metadata": {},
   "outputs": [],
   "source": []
  }
 ],
 "metadata": {
  "kernelspec": {
   "display_name": "Python 3",
   "language": "python",
   "name": "python3"
  },
  "language_info": {
   "codemirror_mode": {
    "name": "ipython",
    "version": 3
   },
   "file_extension": ".py",
   "mimetype": "text/x-python",
   "name": "python",
   "nbconvert_exporter": "python",
   "pygments_lexer": "ipython3",
   "version": "3.7.2"
  }
 },
 "nbformat": 4,
 "nbformat_minor": 4
}
