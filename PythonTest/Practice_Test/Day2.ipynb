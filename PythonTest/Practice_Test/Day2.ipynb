{
 "cells": [
  {
   "cell_type": "code",
   "execution_count": 1,
   "metadata": {},
   "outputs": [
    {
     "name": "stdout",
     "output_type": "stream",
     "text": [
      "Enter number: 8\n",
      "1 + 2 + 3 + 4 + 5 + 6 + 7 + 8 = 36\n"
     ]
    }
   ],
   "source": [
    "def AS(n):\n",
    "    lst = []\n",
    "    \n",
    "    for i in range(1,n+1):\n",
    "        lst.append(i)\n",
    "        \n",
    "    s = \"\"\n",
    "    for i in lst:\n",
    "        s += str(i) + \" + \"\n",
    "        \n",
    "    \n",
    "    sf = s[:-2]\n",
    "    return \"%s= %d\" %(sf,sum(lst))\n",
    "    \n",
    "    \n",
    "        \n",
    "n = int(input(\"Enter number: \"))        \n",
    "print(AS(n))"
   ]
  },
  {
   "cell_type": "code",
   "execution_count": 2,
   "metadata": {},
   "outputs": [
    {
     "name": "stdout",
     "output_type": "stream",
     "text": [
      "Enter Number of element: 4\n",
      "1\n",
      "4\n",
      "7\n",
      "8\n",
      "In this list-->[1, 4, 7, 8], Even count: 2 and Odd count: 2\n"
     ]
    }
   ],
   "source": [
    "def CEO(data):\n",
    "    E,O = 0,0\n",
    "    for i in data:\n",
    "        if i % 2 == 0:\n",
    "            E += 1\n",
    "        else:\n",
    "            O += 1\n",
    "            \n",
    "    return E,O\n",
    "\n",
    "data = []\n",
    "\n",
    "n = int(input(\"Enter Number of element: \"))\n",
    "\n",
    "for i in range(n):\n",
    "    data.append(int(input()))\n",
    "    \n",
    "\n",
    "\n",
    "E,O=CEO(data)\n",
    "\n",
    "print(\"In this list-->%s, Even count: %d and Odd count: %d\"%(data,E,O))"
   ]
  },
  {
   "cell_type": "code",
   "execution_count": 3,
   "metadata": {},
   "outputs": [
    {
     "name": "stdout",
     "output_type": "stream",
     "text": [
      "Enter number: 9\n",
      "9 * 1 = 9\n",
      "9 * 2 = 18\n",
      "9 * 3 = 27\n",
      "9 * 4 = 36\n",
      "9 * 5 = 45\n",
      "9 * 6 = 54\n",
      "9 * 7 = 63\n",
      "9 * 8 = 72\n",
      "9 * 9 = 81\n",
      "9 * 10 = 90\n"
     ]
    }
   ],
   "source": [
    "def table(n):\n",
    "    for i in range(1,11):\n",
    "        p = n * i\n",
    "        print(\"%d * %d = %d\"%(n,i,p))\n",
    "        \n",
    "n = int(input(\"Enter number: \"))\n",
    "table(n)"
   ]
  },
  {
   "cell_type": "code",
   "execution_count": 4,
   "metadata": {},
   "outputs": [
    {
     "name": "stdout",
     "output_type": "stream",
     "text": [
      "Enter Row Number: 5\n",
      "Sum of this row--> [21, 23, 25, 27, 29] is--> 125\n"
     ]
    }
   ],
   "source": [
    "def Rsum(n):\n",
    "    lst = []\n",
    "    for l in range(n):\n",
    "        lst.append([])\n",
    "    \n",
    "        \n",
    "    a = 1\n",
    "    for i in range (n):\n",
    "        for p in range(1,i+2):\n",
    "            lst[i].append(a)\n",
    "            a += 2\n",
    "            \n",
    "    return sum(lst[n-1]),lst\n",
    "\n",
    "\n",
    "n = int(input(\"Enter Row Number: \"))    \n",
    "\n",
    "s,L=Rsum(n)\n",
    "\n",
    "print(\"Sum of this row--> %s is--> %d\"%(L[n-1],s))"
   ]
  },
  {
   "cell_type": "code",
   "execution_count": 5,
   "metadata": {},
   "outputs": [
    {
     "name": "stdout",
     "output_type": "stream",
     "text": [
      "Enter number of rows: 8\n",
      "1\n",
      "22\n",
      "333\n",
      "4444\n",
      "55555\n",
      "666666\n",
      "7777777\n",
      "88888888\n"
     ]
    }
   ],
   "source": [
    "n = int(input(\"Enter number of rows: \"))\n",
    "\n",
    "for i in range(1,n+1):\n",
    "    print(str(i)*i)"
   ]
  },
  {
   "cell_type": "code",
   "execution_count": null,
   "metadata": {},
   "outputs": [],
   "source": []
  }
 ],
 "metadata": {
  "kernelspec": {
   "display_name": "Python 3",
   "language": "python",
   "name": "python3"
  },
  "language_info": {
   "codemirror_mode": {
    "name": "ipython",
    "version": 3
   },
   "file_extension": ".py",
   "mimetype": "text/x-python",
   "name": "python",
   "nbconvert_exporter": "python",
   "pygments_lexer": "ipython3",
   "version": "3.7.2"
  }
 },
 "nbformat": 4,
 "nbformat_minor": 4
}
