{
 "cells": [
  {
   "cell_type": "markdown",
   "metadata": {},
   "source": [
    "# 1.\tWrite a function to find max of three numbers."
   ]
  },
  {
   "cell_type": "code",
   "execution_count": 1,
   "metadata": {},
   "outputs": [
    {
     "name": "stdout",
     "output_type": "stream",
     "text": [
      "--> 5\n",
      "--> 4\n",
      "--> -1\n",
      "Max of three numbers is:  5\n"
     ]
    }
   ],
   "source": [
    "def Max(data):\n",
    "    if data[0] > data[1] and data[0] > data[2]:\n",
    "        return data[0]\n",
    "    elif data[1] > data[2]:\n",
    "        return data[1]\n",
    "    else:\n",
    "        return data[2]\n",
    "    \n",
    "lst = []    \n",
    "    \n",
    "for i in range(3):\n",
    "    lst.append(int(input(\"--> \")))\n",
    "    \n",
    "print(\"Max of three numbers is: \",Max(lst))"
   ]
  },
  {
   "cell_type": "markdown",
   "metadata": {},
   "source": [
    "# 2.Write a Python program to detect the number of local variables declared in a function."
   ]
  },
  {
   "cell_type": "code",
   "execution_count": 2,
   "metadata": {},
   "outputs": [
    {
     "name": "stdout",
     "output_type": "stream",
     "text": [
      "10\n"
     ]
    }
   ],
   "source": [
    "def CLV():\n",
    "    a = 2\n",
    "    b = 4.6\n",
    "    c = True\n",
    "    d = False\n",
    "    e = \"bhavesh\"\n",
    "    f = [1,2,3,4]\n",
    "    g = (0,7,0)\n",
    "    h = {1,2,3,4,5}\n",
    "    i = {\"a\":\"A\",\"b\":\"B\"}\n",
    "    j = 5\n",
    "    print(len(locals()))\n",
    "    \n",
    "#print(CLV.__code__.co_nlocals)\n",
    "    \n",
    "CLV()"
   ]
  },
  {
   "cell_type": "markdown",
   "metadata": {},
   "source": [
    "# 3.Write a recursive function to calculate the sum of numbers from 0 to 10 Expected output: 55"
   ]
  },
  {
   "cell_type": "code",
   "execution_count": 4,
   "metadata": {},
   "outputs": [
    {
     "name": "stdout",
     "output_type": "stream",
     "text": [
      "55\n"
     ]
    }
   ],
   "source": [
    "def SUM(n):\n",
    "    if n < 1:\n",
    "        return n\n",
    "    else:\n",
    "        return n + SUM(n-1)\n",
    "\n",
    "print(SUM(10))"
   ]
  },
  {
   "cell_type": "markdown",
   "metadata": {},
   "source": [
    "# 4.Create a function showStudent() in such a way that it should accept student id, name, and itâ€™s college name  and if the id and college name is missing in function  call it should show it as by default id is 1 and college name  is VITA."
   ]
  },
  {
   "cell_type": "code",
   "execution_count": 5,
   "metadata": {},
   "outputs": [
    {
     "name": "stdout",
     "output_type": "stream",
     "text": [
      "Enter name: bhavesh\n",
      "Enter ID: \n",
      "Enter college name: \n",
      "Student ID: 1 , Name: bhavesh , College Name:  vita\n"
     ]
    }
   ],
   "source": [
    "def showStudent(name, Id=\"1\", college=\"vita\"):\n",
    "    print(\"Student ID: %s , Name: %s , College Name:  %s\"%(Id,name,college))\n",
    "\n",
    "\n",
    "name = input(\"Enter name: \")\n",
    "Id = input(\"Enter ID: \")\n",
    "college = input(\"Enter college name: \")\n",
    "\n",
    "if Id != \"\" and college != \"\":\n",
    "    showStudent(name,Id,college)\n",
    "    \n",
    "else:\n",
    "    showStudent(name)"
   ]
  },
  {
   "cell_type": "markdown",
   "metadata": {},
   "source": [
    "# 4+1"
   ]
  },
  {
   "cell_type": "code",
   "execution_count": 6,
   "metadata": {},
   "outputs": [
    {
     "name": "stdout",
     "output_type": "stream",
     "text": [
      "Enter name: bhavesh\n",
      "Enter ID: \n",
      "Enter college name: vidyanidhi\n",
      "Student ID: 1 , Name: bhavesh , College Name:  vidyanidhi\n"
     ]
    }
   ],
   "source": [
    "def showStudent(name, Id, college):\n",
    "    print(\"Student ID: %s , Name: %s , College Name:  %s\"%(Id,name,college))\n",
    "    \n",
    "name = input(\"Enter name: \")\n",
    "Id = input(\"Enter ID: \")\n",
    "college = input(\"Enter college name: \")\n",
    "\n",
    "if name != \"\" and Id != \"\" and college != \"\":\n",
    "    showStudent(name, Id, college)\n",
    "    \n",
    "elif name !=\"\" and Id == \"\" and college != \"\":\n",
    "    showStudent(name,Id=\"1\",college=college)\n",
    "    \n",
    "elif name !=\"\" and Id != \"\" and college == \"\":\n",
    "    showStudent(name, Id, college=\"Vita\")\n",
    "    \n",
    "else:\n",
    "    showStudent(name, Id=\"1\", college=\"Vita\")"
   ]
  },
  {
   "cell_type": "markdown",
   "metadata": {},
   "source": [
    "# 5.Write a Python function that takes a list and returns a new list with unique elements of the first list. Sample List : [11,22,22,33,33,33,44,55,55,66] Unique List : [11, 22,33, 44, 55,66]"
   ]
  },
  {
   "cell_type": "code",
   "execution_count": 7,
   "metadata": {},
   "outputs": [
    {
     "name": "stdout",
     "output_type": "stream",
     "text": [
      "[11, 22, 33, 44, 55, 66]\n"
     ]
    }
   ],
   "source": [
    "def UNQ(data):\n",
    "    return set(data)\n",
    "\n",
    "data = [11,22,22,33,33,33,44,55,55,66]\n",
    "\n",
    "print(sorted(UNQ(data)))"
   ]
  },
  {
   "cell_type": "markdown",
   "metadata": {},
   "source": [
    "# 6.Write a program to obtain the sum of the first and last digit of this number 2 user defined functions 1st for first digit 2nd for last digit Example: Input:  5424 Output: 9"
   ]
  },
  {
   "cell_type": "code",
   "execution_count": 8,
   "metadata": {},
   "outputs": [
    {
     "name": "stdout",
     "output_type": "stream",
     "text": [
      "Enter a number: 5672\n",
      "Sum of first and last digit of 5672 is--> 7\n"
     ]
    }
   ],
   "source": [
    "def FirstDigi(n):\n",
    "    return n[0]\n",
    "\n",
    "def LastDigi(n):\n",
    "    return n[-1]\n",
    "\n",
    "n = input(\"Enter a number: \")\n",
    "\n",
    "F = int(FirstDigi(n))\n",
    "L = int(LastDigi(n))\n",
    "\n",
    "print(\"Sum of first and last digit of %s is--> %d\"%(n,(F+L)))"
   ]
  },
  {
   "cell_type": "code",
   "execution_count": null,
   "metadata": {},
   "outputs": [],
   "source": []
  }
 ],
 "metadata": {
  "kernelspec": {
   "display_name": "Python 3",
   "language": "python",
   "name": "python3"
  },
  "language_info": {
   "codemirror_mode": {
    "name": "ipython",
    "version": 3
   },
   "file_extension": ".py",
   "mimetype": "text/x-python",
   "name": "python",
   "nbconvert_exporter": "python",
   "pygments_lexer": "ipython3",
   "version": "3.7.2"
  }
 },
 "nbformat": 4,
 "nbformat_minor": 4
}
