{
 "cells": [
  {
   "cell_type": "code",
   "execution_count": 2,
   "metadata": {},
   "outputs": [],
   "source": [
    "import cv2"
   ]
  },
  {
   "cell_type": "code",
   "execution_count": 4,
   "metadata": {},
   "outputs": [
    {
     "data": {
      "text/plain": [
       "array([[187, 158, 104, 121, 143],\n",
       "       [198, 125, 255, 255, 147],\n",
       "       [209, 134, 255,  97, 182]], dtype=uint8)"
      ]
     },
     "execution_count": 4,
     "metadata": {},
     "output_type": "execute_result"
    }
   ],
   "source": [
    "im_g=cv2.imread(\"original.png\",0)\n",
    "im_g"
   ]
  },
  {
   "cell_type": "code",
   "execution_count": 5,
   "metadata": {},
   "outputs": [
    {
     "name": "stdout",
     "output_type": "stream",
     "text": [
      "[[[187 187 187]\n",
      "  [158 158 158]\n",
      "  [104 104 104]\n",
      "  [121 121 121]\n",
      "  [143 143 143]]\n",
      "\n",
      " [[198 198 198]\n",
      "  [125 125 125]\n",
      "  [255 255 255]\n",
      "  [255 255 255]\n",
      "  [147 147 147]]\n",
      "\n",
      " [[209 209 209]\n",
      "  [134 134 134]\n",
      "  [255 255 255]\n",
      "  [ 97  97  97]\n",
      "  [182 182 182]]]\n"
     ]
    }
   ],
   "source": [
    "im_g=cv2.imread(\"original.png\",1)\n",
    "print(im_g)"
   ]
  },
  {
   "cell_type": "code",
   "execution_count": 6,
   "metadata": {},
   "outputs": [
    {
     "data": {
      "text/plain": [
       "True"
      ]
     },
     "execution_count": 6,
     "metadata": {},
     "output_type": "execute_result"
    }
   ],
   "source": [
    "cv2.imwrite(\"newsmallgray.png\",im_g)"
   ]
  },
  {
   "cell_type": "code",
   "execution_count": 9,
   "metadata": {},
   "outputs": [
    {
     "data": {
      "text/plain": [
       "array([[183, 177, 180, ..., 247, 247, 246],\n",
       "       [154, 143, 185, ..., 247, 247, 246],\n",
       "       [149, 151, 208, ..., 247, 246, 246],\n",
       "       ...,\n",
       "       [ 75,  74,  80, ..., 134, 106, 142],\n",
       "       [ 97,  86,  80, ..., 121, 100, 148],\n",
       "       [109,  88,  65, ..., 153, 129, 137]], dtype=uint8)"
      ]
     },
     "execution_count": 9,
     "metadata": {},
     "output_type": "execute_result"
    }
   ],
   "source": [
    "b=cv2.imread(\"bonsai.jpg\",0)\n",
    "b"
   ]
  },
  {
   "cell_type": "code",
   "execution_count": null,
   "metadata": {},
   "outputs": [],
   "source": []
  }
 ],
 "metadata": {
  "kernelspec": {
   "display_name": "Python 3",
   "language": "python",
   "name": "python3"
  },
  "language_info": {
   "codemirror_mode": {
    "name": "ipython",
    "version": 3
   },
   "file_extension": ".py",
   "mimetype": "text/x-python",
   "name": "python",
   "nbconvert_exporter": "python",
   "pygments_lexer": "ipython3",
   "version": "3.7.2"
  }
 },
 "nbformat": 4,
 "nbformat_minor": 4
}
